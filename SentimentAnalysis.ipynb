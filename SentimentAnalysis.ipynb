{
  "nbformat": 4,
  "nbformat_minor": 0,
  "metadata": {
    "colab": {
      "name": "SentimentAnalysis.ipynb",
      "provenance": [],
      "authorship_tag": "ABX9TyP0eKko/VHg3OjDBQkf6QSV",
      "include_colab_link": true
    },
    "kernelspec": {
      "name": "python3",
      "display_name": "Python 3"
    }
  },
  "cells": [
    {
      "cell_type": "markdown",
      "metadata": {
        "id": "view-in-github",
        "colab_type": "text"
      },
      "source": [
        "<a href=\"https://colab.research.google.com/github/AbhishekJoshi93/SentimentAnalysis/blob/master/SentimentAnalysis.ipynb\" target=\"_parent\"><img src=\"https://colab.research.google.com/assets/colab-badge.svg\" alt=\"Open In Colab\"/></a>"
      ]
    },
    {
      "cell_type": "code",
      "metadata": {
        "id": "ZCvRH81EEnDh",
        "colab_type": "code",
        "colab": {}
      },
      "source": [
        "import numpy as np\n",
        "import pandas as pd\n",
        "import seaborn as sns\n",
        "import matplotlib.pyplot as plt"
      ],
      "execution_count": null,
      "outputs": []
    },
    {
      "cell_type": "code",
      "metadata": {
        "id": "MSHS8oYEFch1",
        "colab_type": "code",
        "colab": {}
      },
      "source": [
        "import re\n",
        "import string\n",
        "import nltk"
      ],
      "execution_count": 2,
      "outputs": []
    },
    {
      "cell_type": "code",
      "metadata": {
        "id": "LVjpJnKJFem7",
        "colab_type": "code",
        "colab": {}
      },
      "source": [
        "import warnings\n",
        "warnings.filterwarnings(\"ignore\", category=DeprecationWarning)"
      ],
      "execution_count": 3,
      "outputs": []
    },
    {
      "cell_type": "code",
      "metadata": {
        "id": "alCFkG6eFuUF",
        "colab_type": "code",
        "colab": {}
      },
      "source": [
        "%matplotlib inline"
      ],
      "execution_count": 4,
      "outputs": []
    },
    {
      "cell_type": "code",
      "metadata": {
        "id": "H9CKlTlfFwum",
        "colab_type": "code",
        "colab": {}
      },
      "source": [
        "train = pd.read_csv('https://raw.githubusercontent.com/dD2405/Twitter_Sentiment_Analysis/master/train.csv')\n",
        "train_original=train.copy()"
      ],
      "execution_count": 5,
      "outputs": []
    },
    {
      "cell_type": "code",
      "metadata": {
        "id": "e6J9rQv9F6rm",
        "colab_type": "code",
        "colab": {}
      },
      "source": [
        "train_original.head(1)"
      ],
      "execution_count": null,
      "outputs": []
    },
    {
      "cell_type": "code",
      "metadata": {
        "id": "V4GcV0SPGLdr",
        "colab_type": "code",
        "colab": {}
      },
      "source": [
        "test = pd.read_csv('https://raw.githubusercontent.com/dD2405/Twitter_Sentiment_Analysis/master/test.csv')\n",
        "test_original=test.copy()"
      ],
      "execution_count": 7,
      "outputs": []
    },
    {
      "cell_type": "code",
      "metadata": {
        "id": "YFtpKyJCGec0",
        "colab_type": "code",
        "colab": {}
      },
      "source": [
        "test_original.head(1)"
      ],
      "execution_count": null,
      "outputs": []
    },
    {
      "cell_type": "code",
      "metadata": {
        "id": "li6AVjDpGg_a",
        "colab_type": "code",
        "colab": {}
      },
      "source": [
        "combine = train.append(test,ignore_index=True,sort=True)"
      ],
      "execution_count": 9,
      "outputs": []
    },
    {
      "cell_type": "code",
      "metadata": {
        "id": "fpGoW3mgSIid",
        "colab_type": "code",
        "colab": {}
      },
      "source": [
        "combine.head(1)"
      ],
      "execution_count": null,
      "outputs": []
    },
    {
      "cell_type": "code",
      "metadata": {
        "id": "grC7aAaNSOms",
        "colab_type": "code",
        "colab": {}
      },
      "source": [
        "combine.tail(1)"
      ],
      "execution_count": null,
      "outputs": []
    },
    {
      "cell_type": "code",
      "metadata": {
        "id": "h2eW-4TPSQRn",
        "colab_type": "code",
        "colab": {}
      },
      "source": [
        "def remove_pattern(text,pattern):\n",
        "    \n",
        "    r = re.findall(pattern,text)\n",
        "    \n",
        "    for i in r:\n",
        "        text = re.sub(i,\"\",text)\n",
        "    \n",
        "    return text"
      ],
      "execution_count": 12,
      "outputs": []
    },
    {
      "cell_type": "code",
      "metadata": {
        "id": "EPlYgB4JTSNS",
        "colab_type": "code",
        "colab": {}
      },
      "source": [
        "combine['Tidy_Tweets'] = np.vectorize(remove_pattern)(combine['tweet'], \"@[\\w]*\")\n",
        "combine.head()"
      ],
      "execution_count": null,
      "outputs": []
    },
    {
      "cell_type": "code",
      "metadata": {
        "id": "RiQaO6q5TayN",
        "colab_type": "code",
        "colab": {}
      },
      "source": [
        "combine['Tidy_Tweets'] = combine['Tidy_Tweets'].str.replace(\"[^a-zA-Z#]\", \" \")\n",
        "combine.head()"
      ],
      "execution_count": null,
      "outputs": []
    },
    {
      "cell_type": "code",
      "metadata": {
        "id": "HQ8I3oF5Tua_",
        "colab_type": "code",
        "colab": {}
      },
      "source": [
        "combine['Tidy_Tweets'] = combine['Tidy_Tweets'].apply(lambda x: ' '.join([w for w in x.split() if len(w)>3]))\n",
        "combine.head(10)"
      ],
      "execution_count": null,
      "outputs": []
    },
    {
      "cell_type": "code",
      "metadata": {
        "id": "Ql47wyQIUA1Z",
        "colab_type": "code",
        "colab": {}
      },
      "source": [
        "tokenized_tweet = combine['Tidy_Tweets'].apply(lambda x: x.split())\n",
        "tokenized_tweet.head()"
      ],
      "execution_count": null,
      "outputs": []
    },
    {
      "cell_type": "code",
      "metadata": {
        "id": "aev6uaSpUWQV",
        "colab_type": "code",
        "colab": {}
      },
      "source": [
        "from nltk import PorterStemmer\n",
        "ps = PorterStemmer()"
      ],
      "execution_count": 17,
      "outputs": []
    },
    {
      "cell_type": "code",
      "metadata": {
        "id": "5ZV8LcYIUvzQ",
        "colab_type": "code",
        "colab": {}
      },
      "source": [
        "tokenized_tweet = tokenized_tweet.apply(lambda x: [ps.stem(i) for i in x])\n",
        "tokenized_tweet.head()"
      ],
      "execution_count": null,
      "outputs": []
    },
    {
      "cell_type": "code",
      "metadata": {
        "id": "OYa46wWcUyK1",
        "colab_type": "code",
        "colab": {}
      },
      "source": [
        "for i in range(len(tokenized_tweet)):\n",
        "    tokenized_tweet[i] = ' '.join(tokenized_tweet[i])"
      ],
      "execution_count": 19,
      "outputs": []
    },
    {
      "cell_type": "code",
      "metadata": {
        "id": "k_qkQly6U9Dv",
        "colab_type": "code",
        "colab": {}
      },
      "source": [
        "combine['Tidy_Tweets'] = tokenized_tweet\n",
        "combine.head()"
      ],
      "execution_count": null,
      "outputs": []
    },
    {
      "cell_type": "code",
      "metadata": {
        "id": "372zlyamU-Ci",
        "colab_type": "code",
        "colab": {}
      },
      "source": [
        "from wordcloud import WordCloud,ImageColorGenerator\n",
        "from PIL import Image\n",
        "import urllib\n",
        "import requests"
      ],
      "execution_count": 21,
      "outputs": []
    },
    {
      "cell_type": "code",
      "metadata": {
        "id": "CNpQWHpeVQJB",
        "colab_type": "code",
        "colab": {}
      },
      "source": [
        "all_words_positive = ' '.join(text for text in combine['Tidy_Tweets'][combine['label']==0])"
      ],
      "execution_count": 22,
      "outputs": []
    },
    {
      "cell_type": "code",
      "metadata": {
        "id": "Afypy1ErWJjd",
        "colab_type": "code",
        "colab": {}
      },
      "source": [
        "all_words_positive = ' '.join(text for text in combine['Tidy_Tweets'][combine['label']==1])"
      ],
      "execution_count": 23,
      "outputs": []
    },
    {
      "cell_type": "code",
      "metadata": {
        "id": "Xjxvj5_kVefh",
        "colab_type": "code",
        "colab": {}
      },
      "source": [
        "Mask = np.array(Image.open(requests.get('http://clipart-library.com/image_gallery2/Twitter-PNG-Image.png', stream=True).raw))\n",
        "image_colors = ImageColorGenerator(Mask)\n",
        "wc = WordCloud(background_color='black', height=1500, width=4000,mask=Mask).generate(all_words_positive)"
      ],
      "execution_count": 24,
      "outputs": []
    },
    {
      "cell_type": "code",
      "metadata": {
        "id": "257l8Z4_WCUz",
        "colab_type": "code",
        "colab": {}
      },
      "source": [
        "plt.figure(figsize=(10,20))\n",
        "plt.imshow(wc.recolor(color_func=image_colors),interpolation=\"hamming\")\n",
        "plt.axis('off')\n",
        "plt.show()"
      ],
      "execution_count": null,
      "outputs": []
    },
    {
      "cell_type": "code",
      "metadata": {
        "id": "Uoevd8GGW6zG",
        "colab_type": "code",
        "colab": {}
      },
      "source": [
        "def Hashtags_Extract(x):\n",
        "    hashtags=[]\n",
        "    \n",
        "    for i in x:\n",
        "        ht = re.findall(r'#(\\w+)',i)\n",
        "        hashtags.append(ht)\n",
        "\n",
        "    return hashtags"
      ],
      "execution_count": 26,
      "outputs": []
    },
    {
      "cell_type": "code",
      "metadata": {
        "id": "cSZg6UtIX4Gs",
        "colab_type": "code",
        "colab": {}
      },
      "source": [
        "ht_positive = Hashtags_Extract(combine['Tidy_Tweets'][combine['label']==0])   "
      ],
      "execution_count": 27,
      "outputs": []
    },
    {
      "cell_type": "code",
      "metadata": {
        "id": "tP0t2Z26YQSj",
        "colab_type": "code",
        "colab": {}
      },
      "source": [
        "ht_positive_unnest = sum(ht_positive,[])"
      ],
      "execution_count": 28,
      "outputs": []
    },
    {
      "cell_type": "code",
      "metadata": {
        "id": "e3VAg-LFYhYM",
        "colab_type": "code",
        "colab": {}
      },
      "source": [
        "ht_negative = Hashtags_Extract(combine['Tidy_Tweets'][combine['label']==1])"
      ],
      "execution_count": 29,
      "outputs": []
    },
    {
      "cell_type": "code",
      "metadata": {
        "id": "tIVNuBGIY2LI",
        "colab_type": "code",
        "colab": {}
      },
      "source": [
        "ht_negative_unnest = sum(ht_negative,[])"
      ],
      "execution_count": 30,
      "outputs": []
    },
    {
      "cell_type": "code",
      "metadata": {
        "id": "nqGRjKh9Y6ni",
        "colab_type": "code",
        "colab": {}
      },
      "source": [
        "word_freq_positive = nltk.FreqDist(ht_positive_unnest)"
      ],
      "execution_count": 31,
      "outputs": []
    },
    {
      "cell_type": "code",
      "metadata": {
        "id": "7qQZTYLaZYb0",
        "colab_type": "code",
        "colab": {}
      },
      "source": [
        "df_positive = pd.DataFrame({'Hashtags':list(word_freq_positive.keys()),'Count':list(word_freq_positive.values())})"
      ],
      "execution_count": 32,
      "outputs": []
    },
    {
      "cell_type": "code",
      "metadata": {
        "id": "5dKTW5LTZZkW",
        "colab_type": "code",
        "colab": {}
      },
      "source": [
        "df_positive_plot = df_positive.nlargest(20,columns='Count')\n",
        "sns.barplot(data=df_positive_plot,y='Hashtags',x='Count')\n",
        "sns.despine()"
      ],
      "execution_count": null,
      "outputs": []
    },
    {
      "cell_type": "code",
      "metadata": {
        "id": "3dZfPxYVZwMy",
        "colab_type": "code",
        "colab": {}
      },
      "source": [
        "word_freq_negative = nltk.FreqDist(ht_negative_unnest)"
      ],
      "execution_count": 34,
      "outputs": []
    },
    {
      "cell_type": "code",
      "metadata": {
        "id": "NzcxR8iNaElM",
        "colab_type": "code",
        "colab": {}
      },
      "source": [
        "df_negative = pd.DataFrame({'Hashtags':list(word_freq_negative.keys()),'Count':list(word_freq_negative.values())})"
      ],
      "execution_count": 35,
      "outputs": []
    },
    {
      "cell_type": "code",
      "metadata": {
        "id": "Az34OTfyaH1k",
        "colab_type": "code",
        "colab": {}
      },
      "source": [
        "df_negative_plot = df_negative.nlargest(20,columns='Count') \n",
        "sns.barplot(data=df_negative_plot,y='Hashtags',x='Count')\n",
        "sns.despine()"
      ],
      "execution_count": null,
      "outputs": []
    },
    {
      "cell_type": "code",
      "metadata": {
        "id": "gb1n0smPaOPA",
        "colab_type": "code",
        "colab": {}
      },
      "source": [
        "from sklearn.feature_extraction.text import CountVectorizer\n",
        "bow_vectorizer = CountVectorizer(max_df=0.90, min_df=2, max_features=1000, stop_words='english')\n",
        "bow = bow_vectorizer.fit_transform(combine['Tidy_Tweets'])\n",
        "df_bow = pd.DataFrame(bow.todense())"
      ],
      "execution_count": 37,
      "outputs": []
    },
    {
      "cell_type": "code",
      "metadata": {
        "id": "JHLtX2Q8afkF",
        "colab_type": "code",
        "colab": {}
      },
      "source": [
        "from sklearn.feature_extraction.text import TfidfVectorizer\n",
        "tfidf=TfidfVectorizer(max_df=0.90, min_df=2,max_features=1000,stop_words='english')\n",
        "tfidf_matrix=tfidf.fit_transform(combine['Tidy_Tweets'])\n",
        "df_tfidf = pd.DataFrame(tfidf_matrix.todense())\n",
        "df_tfidf"
      ],
      "execution_count": null,
      "outputs": []
    },
    {
      "cell_type": "code",
      "metadata": {
        "id": "PXhYn1Ljamgz",
        "colab_type": "code",
        "colab": {}
      },
      "source": [
        "train_bow = bow[:31962]\n",
        "train_bow.todense()"
      ],
      "execution_count": null,
      "outputs": []
    },
    {
      "cell_type": "code",
      "metadata": {
        "id": "-cTN4EGvbT53",
        "colab_type": "code",
        "colab": {}
      },
      "source": [
        "train_tfidf_matrix = tfidf_matrix[:31962]\n",
        "train_tfidf_matrix.todense()"
      ],
      "execution_count": null,
      "outputs": []
    },
    {
      "cell_type": "code",
      "metadata": {
        "id": "ysY25RvkbWr7",
        "colab_type": "code",
        "colab": {}
      },
      "source": [
        "from sklearn.model_selection import train_test_split\n",
        "x_train_bow, x_valid_bow, y_train_bow, y_valid_bow = train_test_split(train_bow,train['label'],test_size=0.3,random_state=2)\n",
        "x_train_tfidf, x_valid_tfidf, y_train_tfidf, y_valid_tfidf = train_test_split(train_tfidf_matrix,train['label'],test_size=0.3,random_state=17)"
      ],
      "execution_count": 41,
      "outputs": []
    },
    {
      "cell_type": "code",
      "metadata": {
        "id": "a-vmFPiCbxr2",
        "colab_type": "code",
        "colab": {}
      },
      "source": [
        "from sklearn.metrics import f1_score"
      ],
      "execution_count": 42,
      "outputs": []
    },
    {
      "cell_type": "code",
      "metadata": {
        "id": "wzMDJ7qpcc-D",
        "colab_type": "code",
        "colab": {}
      },
      "source": [
        "from sklearn.linear_model import LogisticRegression\n",
        "Log_Reg = LogisticRegression(random_state=0,solver='lbfgs')"
      ],
      "execution_count": 43,
      "outputs": []
    },
    {
      "cell_type": "code",
      "metadata": {
        "id": "a2O59Delcjoy",
        "colab_type": "code",
        "colab": {}
      },
      "source": [
        "Log_Reg.fit(x_train_bow,y_train_bow)\n",
        "prediction_bow = Log_Reg.predict_proba(x_valid_bow)"
      ],
      "execution_count": 44,
      "outputs": []
    },
    {
      "cell_type": "code",
      "metadata": {
        "id": "rOA8TdSNcy66",
        "colab_type": "code",
        "colab": {}
      },
      "source": [
        "prediction_int = prediction_bow[:,1]>=0.3\n",
        "prediction_int = prediction_int.astype(np.int)\n",
        "log_bow = f1_score(y_valid_bow, prediction_int)\n",
        "log_bow"
      ],
      "execution_count": null,
      "outputs": []
    },
    {
      "cell_type": "code",
      "metadata": {
        "id": "9yTvef1fdL8A",
        "colab_type": "code",
        "colab": {}
      },
      "source": [
        "Log_Reg.fit(x_train_tfidf,y_train_tfidf)\n",
        "prediction_tfidf = Log_Reg.predict_proba(x_valid_tfidf)"
      ],
      "execution_count": 47,
      "outputs": []
    },
    {
      "cell_type": "code",
      "metadata": {
        "id": "SImMUWWxdlIE",
        "colab_type": "code",
        "colab": {}
      },
      "source": [
        "prediction_int = prediction_tfidf[:,1]>=0.3\n",
        "prediction_int = prediction_int.astype(np.int)\n",
        "log_tfidf = f1_score(y_valid_tfidf, prediction_int)\n",
        "log_tfidf"
      ],
      "execution_count": null,
      "outputs": []
    },
    {
      "cell_type": "code",
      "metadata": {
        "id": "pBKvx-89doek",
        "colab_type": "code",
        "colab": {}
      },
      "source": [
        "test_tfidf = tfidf_matrix[31962:]\n",
        "test_pred = Log_Reg.predict_proba(test_tfidf)\n",
        "test_pred_int = test_pred[:,1] >= 0.3\n",
        "test_pred_int = test_pred_int.astype(np.int)\n",
        "test['label'] = test_pred_int\n",
        "submission = test[['id','label']]"
      ],
      "execution_count": 51,
      "outputs": []
    },
    {
      "cell_type": "code",
      "metadata": {
        "id": "5mVW5W7derW4",
        "colab_type": "code",
        "colab": {}
      },
      "source": [
        "submission.tail(10)"
      ],
      "execution_count": null,
      "outputs": []
    },
    {
      "cell_type": "code",
      "metadata": {
        "id": "6zCTqvGxevmX",
        "colab_type": "code",
        "colab": {}
      },
      "source": [
        "combine.tail(10)"
      ],
      "execution_count": null,
      "outputs": []
    }
  ]
}